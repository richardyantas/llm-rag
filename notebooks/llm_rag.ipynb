{
  "cells": [
    {
      "cell_type": "code",
      "execution_count": 82,
      "metadata": {
        "colab": {
          "base_uri": "https://localhost:8080/"
        },
        "id": "wfn-jNbDlVMy",
        "outputId": "c3f6eaeb-7dc2-4fa6-bfbd-9f7b6e21295c"
      },
      "outputs": [],
      "source": [
        "# !pip install  -r ../requirements.txt"
      ]
    },
    {
      "cell_type": "code",
      "execution_count": 83,
      "metadata": {
        "id": "sUKvCtib0U9h"
      },
      "outputs": [],
      "source": [
        "import PyPDF2\n",
        "import re\n",
        "\n",
        "pdf_path = '../data/documento.pdf'\n",
        "\n",
        "\n",
        "def extract_text_from_pdf(pdf_path):\n",
        "    text = \"\"\n",
        "    with open(pdf_path, 'rb') as file:\n",
        "        reader = PyPDF2.PdfReader(file)\n",
        "        for page in reader.pages:\n",
        "            page_text = page.extract_text()\n",
        "            if page_text:\n",
        "                # Añadir todo el texto extraído de la página al texto final\n",
        "                text += page_text\n",
        "\n",
        "   # Usar una expresión regular para identificar títulos seguidos por dos puntos (:)\n",
        "    # Y capturar el texto hasta el próximo título\n",
        "    pattern = r'([A-Za-zÁÉÍÓÚÑáéíóúñ\\s]+:)(.*?)(?=[A-Za-zÁÉÍÓÚÑáéíóúñ\\s]+:|$)'\n",
        "    matches = re.findall(pattern, text, re.DOTALL)\n",
        "\n",
        "    # Crear una lista que agrupa cada título con su respectivo texto\n",
        "    paragraphs = []\n",
        "    for match in matches:\n",
        "        title = match[0].strip()  # Título\n",
        "        content = match[1].strip()  # Texto asociado al título\n",
        "        paragraphs.append(f\"{title} {content}\")  # Unir título con texto\n",
        "\n",
        "    return paragraphs\n",
        "\n",
        "\n",
        "chunks = extract_text_from_pdf(pdf_path)\n",
        "\n"
      ]
    },
    {
      "cell_type": "code",
      "execution_count": 84,
      "metadata": {
        "id": "CVFeJ_memigq"
      },
      "outputs": [],
      "source": [
        "import cohere\n",
        "import os\n",
        "from dotenv import load_dotenv\n",
        "\n",
        "load_dotenv()\n",
        "cohere_api_key = \"CvPKcfibATr60NC4IDP9wIl0kmoBVDyy449ySK59\" # os.getenv[\"COHERE_API_KEY\"]\n",
        "\n",
        "co = cohere.Client(cohere_api_key)\n",
        "\n",
        "def generate_embeddings(chunks):\n",
        "    response = co.embed(texts=chunks, model=\"large\", truncate=\"RIGHT\").embeddings\n",
        "    return response\n",
        "\n",
        "# Generar embeddings para los chunks:\n",
        "embeddings = generate_embeddings(chunks)\n"
      ]
    },
    {
      "cell_type": "code",
      "execution_count": 85,
      "metadata": {
        "id": "dDRvDy7hpM4z"
      },
      "outputs": [
        {
          "ename": "UniqueConstraintError",
          "evalue": "Collection document_embeddingg already exists",
          "output_type": "error",
          "traceback": [
            "\u001b[0;31m---------------------------------------------------------------------------\u001b[0m",
            "\u001b[0;31mUniqueConstraintError\u001b[0m                     Traceback (most recent call last)",
            "Cell \u001b[0;32mIn[85], line 7\u001b[0m\n\u001b[1;32m      4\u001b[0m client \u001b[38;5;241m=\u001b[39m chromadb\u001b[38;5;241m.\u001b[39mClient()\n\u001b[1;32m      6\u001b[0m \u001b[38;5;66;03m# Crea una colección para almacenar los embeddings\u001b[39;00m\n\u001b[0;32m----> 7\u001b[0m collection \u001b[38;5;241m=\u001b[39m \u001b[43mclient\u001b[49m\u001b[38;5;241;43m.\u001b[39;49m\u001b[43mcreate_collection\u001b[49m\u001b[43m(\u001b[49m\u001b[38;5;124;43m\"\u001b[39;49m\u001b[38;5;124;43mdocument_embeddingg\u001b[39;49m\u001b[38;5;124;43m\"\u001b[39;49m\u001b[43m)\u001b[49m\n\u001b[1;32m      9\u001b[0m \u001b[38;5;66;03m# Insertar los chunks y embeddings en la colección\u001b[39;00m\n\u001b[1;32m     10\u001b[0m \u001b[38;5;28;01mdef\u001b[39;00m \u001b[38;5;21minsert_embeddings_in_chromadb\u001b[39m(collection, chunks, embeddings):\n",
            "File \u001b[0;32m~/anaconda3/envs/llm-rag/lib/python3.11/site-packages/chromadb/api/client.py:198\u001b[0m, in \u001b[0;36mClient.create_collection\u001b[0;34m(self, name, metadata, embedding_function, data_loader, get_or_create)\u001b[0m\n\u001b[1;32m    187\u001b[0m \u001b[38;5;129m@override\u001b[39m\n\u001b[1;32m    188\u001b[0m \u001b[38;5;28;01mdef\u001b[39;00m \u001b[38;5;21mcreate_collection\u001b[39m(\n\u001b[1;32m    189\u001b[0m     \u001b[38;5;28mself\u001b[39m,\n\u001b[0;32m   (...)\u001b[0m\n\u001b[1;32m    196\u001b[0m     get_or_create: \u001b[38;5;28mbool\u001b[39m \u001b[38;5;241m=\u001b[39m \u001b[38;5;28;01mFalse\u001b[39;00m,\n\u001b[1;32m    197\u001b[0m ) \u001b[38;5;241m-\u001b[39m\u001b[38;5;241m>\u001b[39m Collection:\n\u001b[0;32m--> 198\u001b[0m     \u001b[38;5;28;01mreturn\u001b[39;00m \u001b[38;5;28;43mself\u001b[39;49m\u001b[38;5;241;43m.\u001b[39;49m\u001b[43m_server\u001b[49m\u001b[38;5;241;43m.\u001b[39;49m\u001b[43mcreate_collection\u001b[49m\u001b[43m(\u001b[49m\n\u001b[1;32m    199\u001b[0m \u001b[43m        \u001b[49m\u001b[43mname\u001b[49m\u001b[38;5;241;43m=\u001b[39;49m\u001b[43mname\u001b[49m\u001b[43m,\u001b[49m\n\u001b[1;32m    200\u001b[0m \u001b[43m        \u001b[49m\u001b[43mmetadata\u001b[49m\u001b[38;5;241;43m=\u001b[39;49m\u001b[43mmetadata\u001b[49m\u001b[43m,\u001b[49m\n\u001b[1;32m    201\u001b[0m \u001b[43m        \u001b[49m\u001b[43membedding_function\u001b[49m\u001b[38;5;241;43m=\u001b[39;49m\u001b[43membedding_function\u001b[49m\u001b[43m,\u001b[49m\n\u001b[1;32m    202\u001b[0m \u001b[43m        \u001b[49m\u001b[43mdata_loader\u001b[49m\u001b[38;5;241;43m=\u001b[39;49m\u001b[43mdata_loader\u001b[49m\u001b[43m,\u001b[49m\n\u001b[1;32m    203\u001b[0m \u001b[43m        \u001b[49m\u001b[43mtenant\u001b[49m\u001b[38;5;241;43m=\u001b[39;49m\u001b[38;5;28;43mself\u001b[39;49m\u001b[38;5;241;43m.\u001b[39;49m\u001b[43mtenant\u001b[49m\u001b[43m,\u001b[49m\n\u001b[1;32m    204\u001b[0m \u001b[43m        \u001b[49m\u001b[43mdatabase\u001b[49m\u001b[38;5;241;43m=\u001b[39;49m\u001b[38;5;28;43mself\u001b[39;49m\u001b[38;5;241;43m.\u001b[39;49m\u001b[43mdatabase\u001b[49m\u001b[43m,\u001b[49m\n\u001b[1;32m    205\u001b[0m \u001b[43m        \u001b[49m\u001b[43mget_or_create\u001b[49m\u001b[38;5;241;43m=\u001b[39;49m\u001b[43mget_or_create\u001b[49m\u001b[43m,\u001b[49m\n\u001b[1;32m    206\u001b[0m \u001b[43m    \u001b[49m\u001b[43m)\u001b[49m\n",
            "File \u001b[0;32m~/anaconda3/envs/llm-rag/lib/python3.11/site-packages/chromadb/telemetry/opentelemetry/__init__.py:143\u001b[0m, in \u001b[0;36mtrace_method.<locals>.decorator.<locals>.wrapper\u001b[0;34m(*args, **kwargs)\u001b[0m\n\u001b[1;32m    141\u001b[0m \u001b[38;5;28;01mglobal\u001b[39;00m tracer, granularity\n\u001b[1;32m    142\u001b[0m \u001b[38;5;28;01mif\u001b[39;00m trace_granularity \u001b[38;5;241m<\u001b[39m granularity:\n\u001b[0;32m--> 143\u001b[0m     \u001b[38;5;28;01mreturn\u001b[39;00m \u001b[43mf\u001b[49m\u001b[43m(\u001b[49m\u001b[38;5;241;43m*\u001b[39;49m\u001b[43margs\u001b[49m\u001b[43m,\u001b[49m\u001b[43m \u001b[49m\u001b[38;5;241;43m*\u001b[39;49m\u001b[38;5;241;43m*\u001b[39;49m\u001b[43mkwargs\u001b[49m\u001b[43m)\u001b[49m\n\u001b[1;32m    144\u001b[0m \u001b[38;5;28;01mif\u001b[39;00m \u001b[38;5;129;01mnot\u001b[39;00m tracer:\n\u001b[1;32m    145\u001b[0m     \u001b[38;5;28;01mreturn\u001b[39;00m f(\u001b[38;5;241m*\u001b[39margs, \u001b[38;5;241m*\u001b[39m\u001b[38;5;241m*\u001b[39mkwargs)\n",
            "File \u001b[0;32m~/anaconda3/envs/llm-rag/lib/python3.11/site-packages/chromadb/api/segment.py:173\u001b[0m, in \u001b[0;36mSegmentAPI.create_collection\u001b[0;34m(self, name, metadata, embedding_function, data_loader, get_or_create, tenant, database)\u001b[0m\n\u001b[1;32m    169\u001b[0m check_index_name(name)\n\u001b[1;32m    171\u001b[0m \u001b[38;5;28mid\u001b[39m \u001b[38;5;241m=\u001b[39m uuid4()\n\u001b[0;32m--> 173\u001b[0m coll, created \u001b[38;5;241m=\u001b[39m \u001b[38;5;28;43mself\u001b[39;49m\u001b[38;5;241;43m.\u001b[39;49m\u001b[43m_sysdb\u001b[49m\u001b[38;5;241;43m.\u001b[39;49m\u001b[43mcreate_collection\u001b[49m\u001b[43m(\u001b[49m\n\u001b[1;32m    174\u001b[0m \u001b[43m    \u001b[49m\u001b[38;5;28;43mid\u001b[39;49m\u001b[38;5;241;43m=\u001b[39;49m\u001b[38;5;28;43mid\u001b[39;49m\u001b[43m,\u001b[49m\n\u001b[1;32m    175\u001b[0m \u001b[43m    \u001b[49m\u001b[43mname\u001b[49m\u001b[38;5;241;43m=\u001b[39;49m\u001b[43mname\u001b[49m\u001b[43m,\u001b[49m\n\u001b[1;32m    176\u001b[0m \u001b[43m    \u001b[49m\u001b[43mmetadata\u001b[49m\u001b[38;5;241;43m=\u001b[39;49m\u001b[43mmetadata\u001b[49m\u001b[43m,\u001b[49m\n\u001b[1;32m    177\u001b[0m \u001b[43m    \u001b[49m\u001b[43mdimension\u001b[49m\u001b[38;5;241;43m=\u001b[39;49m\u001b[38;5;28;43;01mNone\u001b[39;49;00m\u001b[43m,\u001b[49m\n\u001b[1;32m    178\u001b[0m \u001b[43m    \u001b[49m\u001b[43mget_or_create\u001b[49m\u001b[38;5;241;43m=\u001b[39;49m\u001b[43mget_or_create\u001b[49m\u001b[43m,\u001b[49m\n\u001b[1;32m    179\u001b[0m \u001b[43m    \u001b[49m\u001b[43mtenant\u001b[49m\u001b[38;5;241;43m=\u001b[39;49m\u001b[43mtenant\u001b[49m\u001b[43m,\u001b[49m\n\u001b[1;32m    180\u001b[0m \u001b[43m    \u001b[49m\u001b[43mdatabase\u001b[49m\u001b[38;5;241;43m=\u001b[39;49m\u001b[43mdatabase\u001b[49m\u001b[43m,\u001b[49m\n\u001b[1;32m    181\u001b[0m \u001b[43m\u001b[49m\u001b[43m)\u001b[49m\n\u001b[1;32m    183\u001b[0m \u001b[38;5;66;03m# TODO: wrap sysdb call in try except and log error if it fails\u001b[39;00m\n\u001b[1;32m    184\u001b[0m \u001b[38;5;28;01mif\u001b[39;00m created:\n",
            "File \u001b[0;32m~/anaconda3/envs/llm-rag/lib/python3.11/site-packages/chromadb/telemetry/opentelemetry/__init__.py:143\u001b[0m, in \u001b[0;36mtrace_method.<locals>.decorator.<locals>.wrapper\u001b[0;34m(*args, **kwargs)\u001b[0m\n\u001b[1;32m    141\u001b[0m \u001b[38;5;28;01mglobal\u001b[39;00m tracer, granularity\n\u001b[1;32m    142\u001b[0m \u001b[38;5;28;01mif\u001b[39;00m trace_granularity \u001b[38;5;241m<\u001b[39m granularity:\n\u001b[0;32m--> 143\u001b[0m     \u001b[38;5;28;01mreturn\u001b[39;00m \u001b[43mf\u001b[49m\u001b[43m(\u001b[49m\u001b[38;5;241;43m*\u001b[39;49m\u001b[43margs\u001b[49m\u001b[43m,\u001b[49m\u001b[43m \u001b[49m\u001b[38;5;241;43m*\u001b[39;49m\u001b[38;5;241;43m*\u001b[39;49m\u001b[43mkwargs\u001b[49m\u001b[43m)\u001b[49m\n\u001b[1;32m    144\u001b[0m \u001b[38;5;28;01mif\u001b[39;00m \u001b[38;5;129;01mnot\u001b[39;00m tracer:\n\u001b[1;32m    145\u001b[0m     \u001b[38;5;28;01mreturn\u001b[39;00m f(\u001b[38;5;241m*\u001b[39margs, \u001b[38;5;241m*\u001b[39m\u001b[38;5;241m*\u001b[39mkwargs)\n",
            "File \u001b[0;32m~/anaconda3/envs/llm-rag/lib/python3.11/site-packages/chromadb/db/mixins/sysdb.py:220\u001b[0m, in \u001b[0;36mSqlSysDB.create_collection\u001b[0;34m(self, id, name, metadata, dimension, get_or_create, tenant, database)\u001b[0m\n\u001b[1;32m    213\u001b[0m         \u001b[38;5;28;01mreturn\u001b[39;00m (\n\u001b[1;32m    214\u001b[0m             \u001b[38;5;28mself\u001b[39m\u001b[38;5;241m.\u001b[39mget_collections(\n\u001b[1;32m    215\u001b[0m                 \u001b[38;5;28mid\u001b[39m\u001b[38;5;241m=\u001b[39mcollection[\u001b[38;5;124m\"\u001b[39m\u001b[38;5;124mid\u001b[39m\u001b[38;5;124m\"\u001b[39m], tenant\u001b[38;5;241m=\u001b[39mtenant, database\u001b[38;5;241m=\u001b[39mdatabase\n\u001b[1;32m    216\u001b[0m             )[\u001b[38;5;241m0\u001b[39m],\n\u001b[1;32m    217\u001b[0m             \u001b[38;5;28;01mFalse\u001b[39;00m,\n\u001b[1;32m    218\u001b[0m         )\n\u001b[1;32m    219\u001b[0m     \u001b[38;5;28;01melse\u001b[39;00m:\n\u001b[0;32m--> 220\u001b[0m         \u001b[38;5;28;01mraise\u001b[39;00m UniqueConstraintError(\u001b[38;5;124mf\u001b[39m\u001b[38;5;124m\"\u001b[39m\u001b[38;5;124mCollection \u001b[39m\u001b[38;5;132;01m{\u001b[39;00mname\u001b[38;5;132;01m}\u001b[39;00m\u001b[38;5;124m already exists\u001b[39m\u001b[38;5;124m\"\u001b[39m)\n\u001b[1;32m    222\u001b[0m collection \u001b[38;5;241m=\u001b[39m Collection(\n\u001b[1;32m    223\u001b[0m     \u001b[38;5;28mid\u001b[39m\u001b[38;5;241m=\u001b[39m\u001b[38;5;28mid\u001b[39m,\n\u001b[1;32m    224\u001b[0m     name\u001b[38;5;241m=\u001b[39mname,\n\u001b[0;32m   (...)\u001b[0m\n\u001b[1;32m    228\u001b[0m     database\u001b[38;5;241m=\u001b[39mdatabase,\n\u001b[1;32m    229\u001b[0m )\n\u001b[1;32m    231\u001b[0m \u001b[38;5;28;01mwith\u001b[39;00m \u001b[38;5;28mself\u001b[39m\u001b[38;5;241m.\u001b[39mtx() \u001b[38;5;28;01mas\u001b[39;00m cur:\n",
            "\u001b[0;31mUniqueConstraintError\u001b[0m: Collection document_embeddingg already exists"
          ]
        }
      ],
      "source": [
        "import chromadb\n",
        "\n",
        "# Inicia el cliente de ChromaDB\n",
        "client = chromadb.Client()\n",
        "\n",
        "# Crea una colección para almacenar los embeddings\n",
        "collection = client.create_collection(\"document_embeddingg\")\n",
        "\n",
        "# Insertar los chunks y embeddings en la colección\n",
        "def insert_embeddings_in_chromadb(collection, chunks, embeddings):\n",
        "    for i, (chunk, embedding) in enumerate(zip(chunks, embeddings)):\n",
        "        collection.add(wwwzz\n",
        "            ids = [str(i)], # Added ids argument with unique ID for each chunk\n",
        "            documents=[chunk],\n",
        "            embeddings=[embedding],\n",
        "            metadatas=[{\"chunk_id\": i}]\n",
        "        )\n",
        "\n",
        "# Insertar los embeddings\n",
        "insert_embeddings_in_chromadb(collection, chunks, embeddings)"
      ]
    },
    {
      "cell_type": "code",
      "execution_count": 74,
      "metadata": {
        "id": "e6UvUiKTqPsE"
      },
      "outputs": [],
      "source": [
        "def query_embeddings(question):\n",
        "    # Generar el embedding de la pregunta\n",
        "    question_embedding = co.embed(texts=[question], model=\"large\", truncate=\"RIGHT\").embeddings[0]\n",
        "\n",
        "    # Buscar el chunk más similar en ChromaDB\n",
        "    results = collection.query(query_embeddings=[question_embedding], n_results=1)\n",
        "\n",
        "    return results[\"documents\"][0]  # Retorna el chunk más relevante\n"
      ]
    },
    {
      "cell_type": "code",
      "execution_count": 75,
      "metadata": {
        "id": "eth87S2eGlAO"
      },
      "outputs": [],
      "source": [
        "from googletrans import Translator\n",
        "\n",
        "def translate_text(text, target_language):\n",
        "    translator = Translator()\n",
        "    translated = translator.translate(text, dest=target_language)\n",
        "    return translated.text\n"
      ]
    },
    {
      "cell_type": "code",
      "execution_count": 76,
      "metadata": {
        "id": "AglMbGM4FqIn"
      },
      "outputs": [],
      "source": [
        "from langdetect import detect\n",
        "\n",
        "def create_prompt_translated(user_question, context):\n",
        "    # Detectar el idioma de la pregunta\n",
        "    language = detect(user_question)\n",
        "    #print(language)\n",
        "    prompt = f\"\"\"\n",
        "      Contexto: {context}\n",
        "      Pregunta: {user_question}\n",
        "\n",
        "      Instruccion:\n",
        "      - Responder en solo una oración.\n",
        "      - Siempre responder en el mismo idioma de la pregunta.\n",
        "      - Responder en tercera persona.\n",
        "      - Agrega algunos emojis\n",
        "      \"\"\"\n",
        "    #  Agregar emojis dentro del contenido de la respuesta.\n",
        "    prompt_lang = translate_text(prompt, language)\n",
        "\n",
        "    return prompt_lang"
      ]
    },
    {
      "cell_type": "code",
      "execution_count": 86,
      "metadata": {
        "colab": {
          "base_uri": "https://localhost:8080/"
        },
        "id": "SbSDxgNqqb0D",
        "outputId": "4e63e525-ed99-4b5d-dcba-ad29c3589964"
      },
      "outputs": [
        {
          "name": "stdout",
          "output_type": "stream",
          "text": [
            "----\n",
            "Contesto: ['Natura abbagliante: nel profondo della giungla amazzonica, un fiore nmagico noto come \"Moonlight\" fiorisce solo durante la notte.Con \\ npétalos che brilla intensamente, il fiore illumina l'oscurità della giungla, \\ nguiando alle creature notturne e rivelando paesaggi abbaglianti.I \\ nlugareños credono di avere poteri curativi, rendendolo il tesoro della natura.\n",
            "Domanda: quale è il noma della magia fiore?\n",
            "\n",
            "Istruzione:\n",
            "- Rispondi solo in una preghiera.\n",
            "- Rispondi sempre nella stessa lingua della domanda.\n",
            "- Rispondi in terza persona.\n",
            "- Aggiungi un po 'di emoji\n"
          ]
        },
        {
          "name": "stderr",
          "output_type": "stream",
          "text": [
            "unknown field: parameter model is not a valid field\n"
          ]
        },
        {
          "name": "stdout",
          "output_type": "stream",
          "text": [
            " 🌸 Oh, Magic Flower, you shine bright among the nocturnal creatures of the Amazon Jungle, 🌟 🌟 🌟 🌟 🌟 shining your petals to reveal astounding landscapes that no one would have imagined possible.\n",
            "en\n"
          ]
        }
      ],
      "source": [
        "import cohere\n",
        "\n",
        "def generate_response(question, context):\n",
        "    # Generar una respuesta utilizando Cohere\n",
        "    prompt = create_prompt_translated(question, context)\n",
        "    print(prompt)\n",
        "\n",
        "    #model=\"command-xlarge\"\n",
        "    response = co.generate(prompt=prompt,\n",
        "                           max_tokens=50,  # Ajusta el número de tokens según sea necesario\n",
        "                           temperature=0.5 # Ajusta la temperatura para variar la creatividad\n",
        "                           ).generations[0].text\n",
        "    return response\n",
        "\n",
        "# Ejemplo de uso:\n",
        "\n",
        "question = \"Qual è il nome del fiore magico?\"\n",
        "relevant_chunk = query_embeddings(question)\n",
        "print(\"----\")\n",
        "response = generate_response(question, relevant_chunk)\n",
        "\n",
        "print(response)\n",
        "print(detect(response))"
      ]
    },
    {
      "cell_type": "code",
      "execution_count": 69,
      "metadata": {},
      "outputs": [],
      "source": [
        "client.delete_collection(\"document_embeddingg\")"
      ]
    }
  ],
  "metadata": {
    "colab": {
      "provenance": []
    },
    "kernelspec": {
      "display_name": "Python 3",
      "name": "python3"
    },
    "language_info": {
      "codemirror_mode": {
        "name": "ipython",
        "version": 3
      },
      "file_extension": ".py",
      "mimetype": "text/x-python",
      "name": "python",
      "nbconvert_exporter": "python",
      "pygments_lexer": "ipython3",
      "version": "3.11.9"
    }
  },
  "nbformat": 4,
  "nbformat_minor": 0
}
